{
 "cells": [
  {
   "cell_type": "markdown",
   "metadata": {},
   "source": [
    "# EWMAC Strategy Backtesting Example\n",
    "\n",
    "This notebook demonstrates how to backtest the EWMAC (Exponentially Weighted Moving Average Crossover) strategy using the Quants Lab framework.\n",
    "\n",
    "**Strategy Overview:**\n",
    "- Generates long signals when fast EMA crosses above slow EMA\n",
    "- Generates short signals when fast EMA crosses below slow EMA\n",
    "- Exits positions on opposite crossover signals\n",
    "- Uses fixed position sizing\n",
    "\n",
    "**Author:** Quants Lab Team  \n",
    "**Date:** 2025-09-29"
   ]
  },
  {
   "cell_type": "markdown",
   "metadata": {},
   "source": [
    "## 1. Setup and Imports"
   ]
  },
  {
   "cell_type": "code",
   "execution_count": 5,
   "metadata": {},
   "outputs": [
    {
     "name": "stdout",
     "output_type": "stream",
     "text": [
      "sys.path[0:3] = ['C:\\\\Users\\\\aljaz\\\\Dev\\\\Projects\\\\quant_lab', 'C:\\\\Users\\\\aljaz\\\\Dev\\\\Projects\\\\quant_lab\\\\src', 'c:\\\\src']\n",
      "hummingbot at: None\n",
      "connector_base import error: ModuleNotFoundError(\"No module named 'hummingbot.connector'\")\n"
     ]
    },
    {
     "ename": "ModuleNotFoundError",
     "evalue": "No module named 'hummingbot.connector'",
     "output_type": "error",
     "traceback": [
      "\u001b[31m---------------------------------------------------------------------------\u001b[39m",
      "\u001b[31mModuleNotFoundError\u001b[39m                       Traceback (most recent call last)",
      "\u001b[36mCell\u001b[39m\u001b[36m \u001b[39m\u001b[32mIn[5]\u001b[39m\u001b[32m, line 52\u001b[39m\n\u001b[32m     49\u001b[39m         sys.path.insert(\u001b[32m0\u001b[39m, path)\n\u001b[32m     51\u001b[39m \u001b[38;5;66;03m# Import Quants Lab components\u001b[39;00m\n\u001b[32m---> \u001b[39m\u001b[32m52\u001b[39m \u001b[38;5;28;01mfrom\u001b[39;00m\u001b[38;5;250m \u001b[39m\u001b[34;01mcore\u001b[39;00m\u001b[34;01m.\u001b[39;00m\u001b[34;01mbacktesting\u001b[39;00m\u001b[38;5;250m \u001b[39m\u001b[38;5;28;01mimport\u001b[39;00m BacktestingEngine\n\u001b[32m     53\u001b[39m \u001b[38;5;28;01mfrom\u001b[39;00m\u001b[38;5;250m \u001b[39m\u001b[34;01mcore\u001b[39;00m\u001b[34;01m.\u001b[39;00m\u001b[34;01mdata_structures\u001b[39;00m\u001b[38;5;250m \u001b[39m\u001b[38;5;28;01mimport\u001b[39;00m BacktestingResult\n\u001b[32m     55\u001b[39m \u001b[38;5;66;03m# Import EWMAC strategy components\u001b[39;00m\n",
      "\u001b[36mFile \u001b[39m\u001b[32m~\\Dev\\Projects\\quant_lab\\src\\core\\backtesting\\__init__.py:1\u001b[39m\n\u001b[32m----> \u001b[39m\u001b[32m1\u001b[39m \u001b[38;5;28;01mfrom\u001b[39;00m\u001b[38;5;250m \u001b[39m\u001b[34;01m.\u001b[39;00m\u001b[34;01mengine\u001b[39;00m\u001b[38;5;250m \u001b[39m\u001b[38;5;28;01mimport\u001b[39;00m BacktestingEngine\n\u001b[32m      3\u001b[39m __all__ = [\u001b[33m\"\u001b[39m\u001b[33mBacktestingEngine\u001b[39m\u001b[33m\"\u001b[39m]\n",
      "\u001b[36mFile \u001b[39m\u001b[32m~\\Dev\\Projects\\quant_lab\\src\\core\\backtesting\\engine.py:7\u001b[39m\n\u001b[32m      3\u001b[39m \u001b[38;5;28;01mfrom\u001b[39;00m\u001b[38;5;250m \u001b[39m\u001b[34;01mtyping\u001b[39;00m\u001b[38;5;250m \u001b[39m\u001b[38;5;28;01mimport\u001b[39;00m Dict, Optional\n\u001b[32m      5\u001b[39m \u001b[38;5;28;01mimport\u001b[39;00m\u001b[38;5;250m \u001b[39m\u001b[34;01mpandas\u001b[39;00m\u001b[38;5;250m \u001b[39m\u001b[38;5;28;01mas\u001b[39;00m\u001b[38;5;250m \u001b[39m\u001b[34;01mpd\u001b[39;00m\n\u001b[32m----> \u001b[39m\u001b[32m7\u001b[39m \u001b[38;5;28;01mfrom\u001b[39;00m\u001b[38;5;250m \u001b[39m\u001b[34;01mcore\u001b[39;00m\u001b[34;01m.\u001b[39;00m\u001b[34;01mdata_structures\u001b[39;00m\u001b[34;01m.\u001b[39;00m\u001b[34;01mbacktesting_result\u001b[39;00m\u001b[38;5;250m \u001b[39m\u001b[38;5;28;01mimport\u001b[39;00m BacktestingResult\n\u001b[32m      8\u001b[39m \u001b[38;5;28;01mfrom\u001b[39;00m\u001b[38;5;250m \u001b[39m\u001b[34;01mhummingbot\u001b[39;00m\u001b[34;01m.\u001b[39;00m\u001b[34;01mstrategy_v2\u001b[39;00m\u001b[34;01m.\u001b[39;00m\u001b[34;01mbacktesting\u001b[39;00m\u001b[34;01m.\u001b[39;00m\u001b[34;01mbacktesting_engine_base\u001b[39;00m\u001b[38;5;250m \u001b[39m\u001b[38;5;28;01mimport\u001b[39;00m BacktestingEngineBase\n\u001b[32m      9\u001b[39m \u001b[38;5;28;01mfrom\u001b[39;00m\u001b[38;5;250m \u001b[39m\u001b[34;01mhummingbot\u001b[39;00m\u001b[34;01m.\u001b[39;00m\u001b[34;01mstrategy_v2\u001b[39;00m\u001b[34;01m.\u001b[39;00m\u001b[34;01mcontrollers\u001b[39;00m\u001b[38;5;250m \u001b[39m\u001b[38;5;28;01mimport\u001b[39;00m ControllerConfigBase\n",
      "\u001b[36mFile \u001b[39m\u001b[32m~\\Dev\\Projects\\quant_lab\\src\\core\\data_structures\\backtesting_result.py:10\u001b[39m\n\u001b[32m      7\u001b[39m \u001b[38;5;28;01mfrom\u001b[39;00m\u001b[38;5;250m \u001b[39m\u001b[34;01mplotly\u001b[39;00m\u001b[34;01m.\u001b[39;00m\u001b[34;01msubplots\u001b[39;00m\u001b[38;5;250m \u001b[39m\u001b[38;5;28;01mimport\u001b[39;00m make_subplots\n\u001b[32m      9\u001b[39m \u001b[38;5;28;01mfrom\u001b[39;00m\u001b[38;5;250m \u001b[39m\u001b[34;01mcore\u001b[39;00m\u001b[34;01m.\u001b[39;00m\u001b[34;01mdata_structures\u001b[39;00m\u001b[34;01m.\u001b[39;00m\u001b[34;01mdata_structure_base\u001b[39;00m\u001b[38;5;250m \u001b[39m\u001b[38;5;28;01mimport\u001b[39;00m DataStructureBase\n\u001b[32m---> \u001b[39m\u001b[32m10\u001b[39m \u001b[38;5;28;01mfrom\u001b[39;00m\u001b[38;5;250m \u001b[39m\u001b[34;01mhummingbot\u001b[39;00m\u001b[34;01m.\u001b[39;00m\u001b[34;01mconnector\u001b[39;00m\u001b[34;01m.\u001b[39;00m\u001b[34;01mconnector_base\u001b[39;00m\u001b[38;5;250m \u001b[39m\u001b[38;5;28;01mimport\u001b[39;00m TradeType\n\u001b[32m     11\u001b[39m \u001b[38;5;28;01mfrom\u001b[39;00m\u001b[38;5;250m \u001b[39m\u001b[34;01mhummingbot\u001b[39;00m\u001b[34;01m.\u001b[39;00m\u001b[34;01mstrategy_v2\u001b[39;00m\u001b[34;01m.\u001b[39;00m\u001b[34;01mcontrollers\u001b[39;00m\u001b[38;5;250m \u001b[39m\u001b[38;5;28;01mimport\u001b[39;00m ControllerConfigBase\n\u001b[32m     14\u001b[39m \u001b[38;5;28;01mclass\u001b[39;00m\u001b[38;5;250m \u001b[39m\u001b[34;01mBacktestingResult\u001b[39;00m(DataStructureBase):\n",
      "\u001b[31mModuleNotFoundError\u001b[39m: No module named 'hummingbot.connector'"
     ]
    }
   ],
   "source": [
    "import os\n",
    "import sys\n",
    "from datetime import datetime, timedelta\n",
    "from decimal import Decimal\n",
    "import pandas as pd\n",
    "import numpy as np\n",
    "from pathlib import Path\n",
    "\n",
    "\n",
    "# Find repo root (folder that contains /src)\n",
    "p = Path.cwd().resolve()\n",
    "while p != p.parent and not (p / \"src\").exists():\n",
    "    p = p.parent\n",
    "\n",
    "# Add both ROOT (for 'hummingbot') and SRC (for 'core')\n",
    "root_path = str(p)\n",
    "src_path  = str(p / \"src\")\n",
    "for path in (root_path, src_path):\n",
    "    if path not in sys.path:\n",
    "        sys.path.insert(0, path)\n",
    "\n",
    "print(\"sys.path[0:3] =\", sys.path[:3])\n",
    "\n",
    "# Sanity imports\n",
    "import hummingbot\n",
    "print(\"hummingbot at:\", getattr(hummingbot, \"__file__\", \"(namespace package)\"))\n",
    "\n",
    "# Try connector_base\n",
    "try:\n",
    "    import hummingbot.connector.connector_base as cb\n",
    "    print(\"connector_base at:\", cb.__file__)\n",
    "except Exception as e:\n",
    "    print(\"connector_base import error:\", repr(e))\n",
    "\n",
    "\n",
    "# Add paths for imports\n",
    "# sys.path.append('../')\n",
    "# Walk up until we find the repo root (the one that contains /src)\n",
    "p = Path.cwd().resolve()\n",
    "while p != p.parent and not (p / \"src\").exists():\n",
    "    p = p.parent\n",
    "\n",
    "# Put ROOT (for `hummingbot/`) and SRC (for `core/`) on the path\n",
    "root_path = str(p)\n",
    "src_path  = str(p / \"src\")\n",
    "\n",
    "for path in (root_path, src_path):\n",
    "    if path not in sys.path:\n",
    "        sys.path.insert(0, path)\n",
    "\n",
    "# Import Quants Lab components\n",
    "from core.backtesting import BacktestingEngine\n",
    "from core.data_structures import BacktestingResult\n",
    "\n",
    "# Import EWMAC strategy components\n",
    "from strategies.Testing.ewmac_config import EWMACControllerConfig\n",
    "from strategies.Testing.ewmac_controller import EWMACController\n",
    "\n",
    "print(\"Imports successful!\")"
   ]
  },
  {
   "cell_type": "markdown",
   "metadata": {},
   "source": [
    "## 2. Define Backtesting Parameters"
   ]
  },
  {
   "cell_type": "code",
   "execution_count": null,
   "metadata": {},
   "outputs": [],
   "source": [
    "# Define backtesting period\n",
    "end_date = datetime.now()\n",
    "start_date = end_date - timedelta(days=30)  # 30 days of data\n",
    "\n",
    "# Convert to timestamps\n",
    "start_timestamp = int(start_date.timestamp())\n",
    "end_timestamp = int(end_date.timestamp())\n",
    "\n",
    "print(f\"Backtesting Period:\")\n",
    "print(f\"Start: {start_date.strftime('%Y-%m-%d %H:%M:%S')}\")\n",
    "print(f\"End: {end_date.strftime('%Y-%m-%d %H:%M:%S')}\")\n",
    "print(f\"Duration: {(end_date - start_date).days} days\")"
   ]
  },
  {
   "cell_type": "markdown",
   "metadata": {},
   "source": [
    "## 3. Configure EWMAC Strategy"
   ]
  },
  {
   "cell_type": "code",
   "execution_count": null,
   "metadata": {},
   "outputs": [],
   "source": [
    "# Create strategy configuration\n",
    "config = EWMACControllerConfig(\n",
    "    # Strategy identification\n",
    "    id=\"ewmac_eth_usdt_backtest\",\n",
    "    \n",
    "    # Exchange and trading pair\n",
    "    connector_name=\"binance_paper_trade\",\n",
    "    trading_pair=\"ETH-USDT\",\n",
    "    \n",
    "    # EMA parameters\n",
    "    fast_ema_period=8,\n",
    "    slow_ema_period=32,\n",
    "    \n",
    "    # Position sizing\n",
    "    position_size_quote=Decimal(\"100\"),  # $100 per position\n",
    "    total_amount_quote=Decimal(\"1000\"),   # $1000 total capital\n",
    "    \n",
    "    # Risk management\n",
    "    max_executors_per_side=1,\n",
    "    cooldown_time=60,  # 60 seconds cooldown\n",
    "    \n",
    "    # Signal filtering\n",
    "    min_signal_strength=0.0,  # Accept all signals\n",
    "    \n",
    "    # Candles configuration\n",
    "    interval=\"1m\",\n",
    ")\n",
    "\n",
    "print(\"Strategy Configuration:\")\n",
    "print(f\"  Trading Pair: {config.trading_pair}\")\n",
    "print(f\"  EMA Periods: {config.fast_ema_period}/{config.slow_ema_period}\")\n",
    "print(f\"  Position Size: ${config.position_size_quote}\")\n",
    "print(f\"  Total Capital: ${config.total_amount_quote}\")\n",
    "print(f\"  Interval: {config.interval}\")"
   ]
  },
  {
   "cell_type": "markdown",
   "metadata": {},
   "source": [
    "## 4. Initialize Backtesting Engine"
   ]
  },
  {
   "cell_type": "code",
   "execution_count": null,
   "metadata": {},
   "outputs": [],
   "source": [
    "# Initialize backtesting engine\n",
    "engine = BacktestingEngine(\n",
    "    root_path=\"../\",  # Path to project root\n",
    "    load_cached_data=True,  # Use cached candle data if available\n",
    ")\n",
    "\n",
    "print(\"Backtesting engine initialized!\")"
   ]
  },
  {
   "cell_type": "markdown",
   "metadata": {},
   "source": [
    "## 5. Run Backtest"
   ]
  },
  {
   "cell_type": "code",
   "execution_count": null,
   "metadata": {},
   "outputs": [],
   "source": [
    "# Run backtest\n",
    "print(\"Running backtest...\")\n",
    "result = await engine.run_backtesting(\n",
    "    config=config,\n",
    "    start=start_timestamp,\n",
    "    end=end_timestamp,\n",
    "    backtesting_resolution=\"1m\",\n",
    "    trade_cost=0.0006  # 0.06% trading fee\n",
    ")\n",
    "\n",
    "print(\"Backtest completed!\")"
   ]
  },
  {
   "cell_type": "markdown",
   "metadata": {},
   "source": [
    "## 6. Display Results Summary"
   ]
  },
  {
   "cell_type": "code",
   "execution_count": null,
   "metadata": {},
   "outputs": [],
   "source": [
    "# Get results summary\n",
    "summary = result.get_results_summary()\n",
    "\n",
    "print(\"=\"*60)\n",
    "print(\"BACKTEST RESULTS SUMMARY\")\n",
    "print(\"=\"*60)\n",
    "print(f\"\\nPerformance Metrics:\")\n",
    "print(f\"  Net PnL (Quote): ${summary['net_pnl_quote']:.2f}\")\n",
    "print(f\"  Net PnL (%): {summary['net_pnl_pct']:.2%}\")\n",
    "print(f\"  Max Drawdown (USD): ${summary['max_drawdown_usd']:.2f}\")\n",
    "print(f\"  Max Drawdown (%): {summary['max_drawdown_pct']:.2%}\")\n",
    "print(f\"  Sharpe Ratio: {summary['sharpe_ratio']:.2f}\")\n",
    "print(f\"  Profit Factor: {summary['profit_factor']:.2f}\")\n",
    "\n",
    "print(f\"\\nTrading Activity:\")\n",
    "print(f\"  Total Executors: {summary['total_executors']}\")\n",
    "print(f\"  Total Volume: ${summary['total_volume']:.2f}\")\n",
    "print(f\"  Long Accuracy: {summary['accuracy_long']:.2%}\")\n",
    "print(f\"  Short Accuracy: {summary['accuracy_short']:.2%}\")\n",
    "\n",
    "print(f\"\\nClose Types:\")\n",
    "close_types = summary.get('close_types', {})\n",
    "for close_type, count in close_types.items():\n",
    "    print(f\"  {close_type}: {count}\")\n",
    "print(\"=\"*60)"
   ]
  },
  {
   "cell_type": "markdown",
   "metadata": {},
   "source": [
    "## 7. Visualize Results"
   ]
  },
  {
   "cell_type": "code",
   "execution_count": null,
   "metadata": {},
   "outputs": [],
   "source": [
    "# Plot backtesting results\n",
    "fig = result.get_backtesting_figure()\n",
    "fig.show()\n",
    "\n",
    "print(\"Chart displayed above shows:\")\n",
    "print(\"  Top panel: Price action with entry/exit points\")\n",
    "print(\"  Bottom panel: Cumulative PnL over time\")"
   ]
  },
  {
   "cell_type": "markdown",
   "metadata": {},
   "source": [
    "## 8. Analyze Individual Trades"
   ]
  },
  {
   "cell_type": "code",
   "execution_count": null,
   "metadata": {},
   "outputs": [],
   "source": [
    "# Get executor data\n",
    "executors_df = pd.DataFrame([e.__dict__ for e in result.executors])\n",
    "\n",
    "if len(executors_df) > 0:\n",
    "    print(f\"\\nTotal Trades: {len(executors_df)}\")\n",
    "    print(\"\\nFirst 5 Trades:\")\n",
    "    print(executors_df[['side', 'entry_price', 'exit_price', 'net_pnl_quote', 'close_type']].head())\n",
    "    \n",
    "    # Trade statistics\n",
    "    winning_trades = len(executors_df[executors_df['net_pnl_quote'] > 0])\n",
    "    losing_trades = len(executors_df[executors_df['net_pnl_quote'] <= 0])\n",
    "    avg_win = executors_df[executors_df['net_pnl_quote'] > 0]['net_pnl_quote'].mean()\n",
    "    avg_loss = executors_df[executors_df['net_pnl_quote'] <= 0]['net_pnl_quote'].mean()\n",
    "    \n",
    "    print(f\"\\nTrade Statistics:\")\n",
    "    print(f\"  Winning Trades: {winning_trades}\")\n",
    "    print(f\"  Losing Trades: {losing_trades}\")\n",
    "    print(f\"  Win Rate: {winning_trades / len(executors_df):.2%}\")\n",
    "    print(f\"  Avg Win: ${avg_win:.2f}\")\n",
    "    print(f\"  Avg Loss: ${avg_loss:.2f}\")\n",
    "    print(f\"  Risk/Reward Ratio: {abs(avg_win / avg_loss):.2f}\")\n",
    "else:\n",
    "    print(\"No trades executed during backtest period.\")"
   ]
  },
  {
   "cell_type": "markdown",
   "metadata": {},
   "source": [
    "## 9. Parameter Sensitivity Analysis (Optional)"
   ]
  },
  {
   "cell_type": "code",
   "execution_count": null,
   "metadata": {},
   "outputs": [],
   "source": [
    "# Test different EMA period combinations\n",
    "print(\"Running parameter sensitivity analysis...\\n\")\n",
    "\n",
    "ema_combinations = [\n",
    "    (5, 15),\n",
    "    (8, 21),\n",
    "    (8, 32),\n",
    "    (12, 26),\n",
    "    (20, 50),\n",
    "]\n",
    "\n",
    "results_list = []\n",
    "\n",
    "for fast, slow in ema_combinations:\n",
    "    # Update config\n",
    "    test_config = config.copy()\n",
    "    test_config.fast_ema_period = fast\n",
    "    test_config.slow_ema_period = slow\n",
    "    test_config.id = f\"ewmac_{fast}_{slow}\"\n",
    "    \n",
    "    # Run backtest\n",
    "    test_result = await engine.run_backtesting(\n",
    "        config=test_config,\n",
    "        start=start_timestamp,\n",
    "        end=end_timestamp,\n",
    "        backtesting_resolution=\"1m\",\n",
    "        trade_cost=0.0006\n",
    "    )\n",
    "    \n",
    "    # Store results\n",
    "    summary = test_result.get_results_summary()\n",
    "    results_list.append({\n",
    "        'fast_ema': fast,\n",
    "        'slow_ema': slow,\n",
    "        'net_pnl_pct': summary['net_pnl_pct'],\n",
    "        'sharpe_ratio': summary['sharpe_ratio'],\n",
    "        'max_drawdown_pct': summary['max_drawdown_pct'],\n",
    "        'total_executors': summary['total_executors'],\n",
    "    })\n",
    "    \n",
    "    print(f\"EMA {fast}/{slow}: PnL={summary['net_pnl_pct']:.2%}, Sharpe={summary['sharpe_ratio']:.2f}\")\n",
    "\n",
    "# Display results\n",
    "sensitivity_df = pd.DataFrame(results_list)\n",
    "print(\"\\nParameter Sensitivity Results:\")\n",
    "print(sensitivity_df.to_string(index=False))"
   ]
  },
  {
   "cell_type": "markdown",
   "metadata": {},
   "source": [
    "## 10. Export Results (Optional)"
   ]
  },
  {
   "cell_type": "code",
   "execution_count": null,
   "metadata": {},
   "outputs": [],
   "source": [
    "# Export results to CSV\n",
    "output_dir = \"../backtesting_results/ewmac/\"\n",
    "os.makedirs(output_dir, exist_ok=True)\n",
    "\n",
    "# Export executor data\n",
    "if len(executors_df) > 0:\n",
    "    filename = f\"ewmac_trades_{datetime.now().strftime('%Y%m%d_%H%M%S')}.csv\"\n",
    "    executors_df.to_csv(os.path.join(output_dir, filename), index=False)\n",
    "    print(f\"Trades exported to: {output_dir}{filename}\")\n",
    "\n",
    "# Export summary\n",
    "summary_filename = f\"ewmac_summary_{datetime.now().strftime('%Y%m%d_%H%M%S')}.json\"\n",
    "import json\n",
    "with open(os.path.join(output_dir, summary_filename), 'w') as f:\n",
    "    json.dump(summary, f, indent=2, default=str)\n",
    "print(f\"Summary exported to: {output_dir}{summary_filename}\")"
   ]
  },
  {
   "cell_type": "markdown",
   "metadata": {},
   "source": [
    "## Next Steps\n",
    "\n",
    "After reviewing the backtest results:\n",
    "\n",
    "1. **Optimize Parameters**: Try different EMA periods, position sizes, or signal strength thresholds\n",
    "2. **Walk-Forward Analysis**: Use `WalkForwardOptimizer` for robust parameter selection\n",
    "3. **Monte Carlo Simulation**: Test strategy robustness under different market conditions\n",
    "4. **Live Testing**: Deploy to paper trading for real-time validation\n",
    "5. **Production**: Deploy via Hummingbot Dashboard for live trading\n",
    "\n",
    "**Documentation:**\n",
    "- Strategy details: `strategies/EWMAC/README.md`\n",
    "- Optimization guide: `research_notebooks/optimization/`\n",
    "- Deployment guide: `docs/deployment.md`"
   ]
  }
 ],
 "metadata": {
  "kernelspec": {
   "display_name": "quant_lab",
   "language": "python",
   "name": "python3"
  },
  "language_info": {
   "codemirror_mode": {
    "name": "ipython",
    "version": 3
   },
   "file_extension": ".py",
   "mimetype": "text/x-python",
   "name": "python",
   "nbconvert_exporter": "python",
   "pygments_lexer": "ipython3",
   "version": "3.12.11"
  }
 },
 "nbformat": 4,
 "nbformat_minor": 4
}
